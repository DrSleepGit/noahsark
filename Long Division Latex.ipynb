{
 "cells": [
  {
   "cell_type": "markdown",
   "id": "1bc93422",
   "metadata": {},
   "source": [
    "# Long Division Latex"
   ]
  },
  {
   "cell_type": "code",
   "execution_count": 26,
   "id": "f483a668",
   "metadata": {},
   "outputs": [],
   "source": [
    "# Jupyter Utilities\n",
    "\n",
    "from IPython.display import display, Javascript\n",
    "\n",
    "def add_cell( text,  type = 'code', direct = 'above' ):\n",
    "\n",
    "    text = text.replace( '\\n', '\\\\n' ).replace( \"\\\"\", \"\\\\\\\"\" ).replace( \"'\", \"\\\\'\" )\n",
    "    \n",
    "    _output_ = Javascript('''\n",
    "    var cell = IPython.notebook.insert_cell_{}(\"{}\")\n",
    "    cell.set_text(\"{}\")\n",
    "    '''.format( direct, type, text ))\n",
    "    \n",
    "    display( _output_ );"
   ]
  },
  {
   "cell_type": "code",
   "execution_count": 27,
   "id": "fd4bbf62",
   "metadata": {},
   "outputs": [],
   "source": [
    "# Latex Wrapper\n",
    "\n",
    "def latex_wrapper( latex : str ) -> str :\n",
    "    return f\"$${ latex }$$\".replace( '\\\\', \"\\\\\\\\\" )    "
   ]
  },
  {
   "cell_type": "code",
   "execution_count": null,
   "id": "fba5845b",
   "metadata": {},
   "outputs": [],
   "source": []
  },
  {
   "cell_type": "code",
   "execution_count": 28,
   "id": "55567b3f",
   "metadata": {},
   "outputs": [
    {
     "data": {
      "application/javascript": [
       "\n",
       "    var cell = IPython.notebook.insert_cell_above(\"markdown\")\n",
       "    cell.set_text(\"$$\\\\require{enclose}\\n\\\\begin{array}{r}\\n                          125            \\\\\\\\\\n    4   \\\\enclose{longdiv}{500}           \\\\\\\\\\n    \\\\underline{          -4}\\\\phantom{00} \\\\\\\\\\n                          10\\\\phantom{0}  \\\\\\\\\\n    \\\\underline{-\\\\phantom{0}8}\\\\phantom{0} \\\\\\\\\\n                \\\\phantom{0}20            \\\\\\\\\\n    \\\\underline{           -20}           \\\\\\\\\\n                \\\\phantom{00}0\\n\\\\end{array}$$\")\n",
       "    "
      ],
      "text/plain": [
       "<IPython.core.display.Javascript object>"
      ]
     },
     "metadata": {},
     "output_type": "display_data"
    }
   ],
   "source": [
    "\n",
    "latex = r\"\"\"\\require{enclose}\n",
    "\\begin{array}{r}\n",
    "                          125            \\\\\n",
    "    4   \\enclose{longdiv}{500}           \\\\\n",
    "    \\underline{          -4}\\phantom{00} \\\\\n",
    "                          10\\phantom{0}  \\\\\n",
    "    \\underline{-\\phantom{0}8}\\phantom{0} \\\\\n",
    "                \\phantom{0}20            \\\\\n",
    "    \\underline{           -20}           \\\\\n",
    "                \\phantom{00}0\n",
    "\\end{array}\"\"\"\n",
    "\n",
    "latex = latex_wrapper(latex)\n",
    "\n",
    "add_cell( latex, type=\"markdown\")"
   ]
  },
  {
   "cell_type": "markdown",
   "id": "c938137f",
   "metadata": {},
   "source": [
    "$$\\require{enclose}\n",
    "\\begin{array}{r}\n",
    "                          125            \\\\\n",
    "    4   \\enclose{longdiv}{500}           \\\\\n",
    "    \\underline{          -4}\\phantom{00} \\\\\n",
    "                          10\\phantom{0}  \\\\\n",
    "    \\underline{-\\phantom{0}8}\\phantom{0} \\\\\n",
    "                \\phantom{0}20            \\\\\n",
    "    \\underline{           -20}           \\\\\n",
    "                \\phantom{00}0\n",
    "\\end{array}$$"
   ]
  },
  {
   "cell_type": "markdown",
   "id": "762189ed",
   "metadata": {},
   "source": [
    "$$\\require{enclose}\n",
    "\\begin{array}{r}\n",
    "                          125            \\\\\n",
    "    4   \\enclose{longdiv}{500}           \\\\\n",
    "    \\underline{          -4}\\phantom{00} \\\\\n",
    "                          10\\phantom{0}  \\\\\n",
    "    \\underline{-\\phantom{0}8}\\phantom{0} \\\\\n",
    "                \\phantom{0}20            \\\\\n",
    "    \\underline{           -20}           \\\\\n",
    "                \\phantom{00}0\n",
    "\\end{array}$$"
   ]
  },
  {
   "cell_type": "markdown",
   "id": "bbcd31c7",
   "metadata": {},
   "source": [
    "$$\\require{enclose}\n",
    "\\begin{array}{r}\n",
    "                          125            \\\\\n",
    "    4   \\enclose{longdiv}{500}           \\\\\n",
    "    \\underline{          -4}\\phantom{00} \\\\\n",
    "                          10\\phantom{0}  \\\\\n",
    "    \\underline{-\\phantom{0}8}\\phantom{0} \\\\\n",
    "                \\phantom{0}20            \\\\\n",
    "    \\underline{           -20}           \\\\\n",
    "                \\phantom{00}0\n",
    "\\end{array}$$"
   ]
  },
  {
   "cell_type": "markdown",
   "id": "6e8328a1",
   "metadata": {},
   "source": []
  },
  {
   "cell_type": "code",
   "execution_count": null,
   "id": "65dfa4c5",
   "metadata": {},
   "outputs": [],
   "source": []
  },
  {
   "cell_type": "code",
   "execution_count": null,
   "id": "ac7c015c",
   "metadata": {},
   "outputs": [],
   "source": []
  },
  {
   "cell_type": "code",
   "execution_count": 29,
   "id": "11f75bcf",
   "metadata": {},
   "outputs": [],
   "source": [
    "latex = r\"\"\"\\require{enclose}\n",
    "\\begin{array}{r}\n",
    "                          125            \\\\\n",
    "    4   \\enclose{longdiv}{500}           \\\\\n",
    "    \\underline{          -4}\\phantom{00} \\\\\n",
    "                          10\\phantom{0}  \\\\\n",
    "    \\underline{-\\phantom{0}8}\\phantom{0} \\\\\n",
    "                \\phantom{0}20            \\\\\n",
    "    \\underline{           -20}           \\\\\n",
    "                \\phantom{00}0\n",
    "\\end{array}\"\"\""
   ]
  },
  {
   "cell_type": "markdown",
   "id": "7b95a36c",
   "metadata": {},
   "source": [
    "$$\n",
    "\\require{enclose}\n",
    "\\begin{array}{r}\n",
    "                 \\phantom{000}           \\\\\n",
    "    4   \\enclose{longdiv}{500}           \\\\\n",
    "\\end{array}\n",
    "$$"
   ]
  },
  {
   "cell_type": "markdown",
   "id": "34cefdd6",
   "metadata": {},
   "source": [
    "$$\n",
    "\\require{enclose}\n",
    "\\begin{array}{r}\n",
    "    \n",
    "                          1\\phantom{00}  \\\\\n",
    "    4   \\enclose{longdiv}{500}           \\\\\n",
    "    \\underline{          -4}\\phantom{00} \\\\\n",
    "    division_body = division_body + new_calc    \\\\\n",
    "\\end{array}\n",
    "$$"
   ]
  },
  {
   "cell_type": "markdown",
   "id": "19a05a2e",
   "metadata": {},
   "source": [
    "$$\n",
    "\\require{enclose}\n",
    "\\begin{array}{r}\n",
    "                          1\\phantom{00}  \\\\\n",
    "    4   \\enclose{longdiv}{500}           \\\\\n",
    "    \\underline{          -4}\\phantom{00} \\\\\n",
    "                          1 \\phantom{00}\n",
    "\\end{array}\n",
    "$$"
   ]
  },
  {
   "cell_type": "markdown",
   "id": "c45fb975",
   "metadata": {},
   "source": [
    "$$\n",
    "\\require{enclose}\n",
    "\\begin{array}{r}\n",
    "                          1\\phantom{00}  \\\\\n",
    "    4   \\enclose{longdiv}{500}           \\\\\n",
    "    \\underline{          -4}\\phantom{00} \\\\\n",
    "                          10\\phantom{0}  \\\\\n",
    "\\end{array}\n",
    "$$"
   ]
  },
  {
   "cell_type": "markdown",
   "id": "f395cec0",
   "metadata": {},
   "source": [
    "$$\n",
    "\\require{enclose}\n",
    "\\begin{array}{r}\n",
    "                          12\\phantom{0}  \\\\\n",
    "    4   \\enclose{longdiv}{500}           \\\\\n",
    "    \\underline{          -4}\\phantom{00} \\\\\n",
    "                          10\\phantom{0}  \\\\\n",
    "    \\underline{-\\phantom{0}8}\\phantom{0} \\\\\n",
    "\\end{array}\n",
    "$$"
   ]
  },
  {
   "cell_type": "markdown",
   "id": "850a8078",
   "metadata": {},
   "source": [
    "$$\n",
    "\\require{enclose}\n",
    "\\begin{array}{r}\n",
    "                          12\\phantom{0}  \\\\\n",
    "    4   \\enclose{longdiv}{500}           \\\\\n",
    "    \\underline{          -4}\\phantom{00} \\\\\n",
    "                          10\\phantom{0}  \\\\\n",
    "    \\underline{-\\phantom{0}8}\\phantom{0} \\\\\n",
    "                           2 \\phantom{0} \\\\\n",
    "\\end{array}\n",
    "$$"
   ]
  },
  {
   "cell_type": "markdown",
   "id": "3b2203ba",
   "metadata": {},
   "source": [
    "$$\n",
    "\\require{enclose}\n",
    "\\begin{array}{r}\n",
    "                          12\\phantom{0}  \\\\\n",
    "    4   \\enclose{longdiv}{500}           \\\\\n",
    "    \\underline{          -4}\\phantom{00} \\\\\n",
    "                          10\\phantom{0}  \\\\\n",
    "    \\underline{-\\phantom{0}8}\\phantom{0} \\\\\n",
    "                           20            \\\\\n",
    "\\end{array}\n",
    "$$"
   ]
  },
  {
   "cell_type": "markdown",
   "id": "a4db8d0d",
   "metadata": {},
   "source": [
    "$$\n",
    "\\require{enclose}\n",
    "\\begin{array}{r}\n",
    "                          125            \\\\\n",
    "    4   \\enclose{longdiv}{500}           \\\\\n",
    "    \\underline{          -4}\\phantom{00} \\\\\n",
    "                          10\\phantom{0}  \\\\\n",
    "    \\underline{-\\phantom{0}8}\\phantom{0} \\\\\n",
    "                           20            \\\\\n",
    "    \\underline{           -20}           \\\\\n",
    "\\end{array}\n",
    "$$"
   ]
  },
  {
   "cell_type": "markdown",
   "id": "de72d74f",
   "metadata": {},
   "source": [
    "$$\n",
    "\\require{enclose}\n",
    "\\begin{array}{r}\n",
    "                          125            \\\\\n",
    "    4   \\enclose{longdiv}{500}           \\\\\n",
    "    \\underline{          -4}\\phantom{00} \\\\\n",
    "                          10\\phantom{0}  \\\\\n",
    "    \\underline{-\\phantom{0}8}\\phantom{0} \\\\\n",
    "                           20            \\\\\n",
    "    \\underline{           -20}           \\\\\n",
    "              0 \n",
    "\\end{array}\n",
    "$$"
   ]
  },
  {
   "cell_type": "code",
   "execution_count": 57,
   "id": "301f8108",
   "metadata": {},
   "outputs": [
    {
     "name": "stdout",
     "output_type": "stream",
     "text": [
      "Dividend Digit: 7\n"
     ]
    },
    {
     "data": {
      "application/javascript": [
       "\n",
       "    var cell = IPython.notebook.insert_cell_above(\"markdown\")\n",
       "    cell.set_text(\"$$\\n    \\\\require{enclose}\\n    \\\\begin{array}{r} 3 \\\\phantom{ 00 } \\\\\\\\ \\\\4\\\\enclose{longdiv}{ 700 } \\\\underline{          -4} \\\\phantom{00} \\\\\\\\\\\\end{array}$$\")\n",
       "    "
      ],
      "text/plain": [
       "<IPython.core.display.Javascript object>"
      ]
     },
     "metadata": {},
     "output_type": "display_data"
    },
    {
     "name": "stdout",
     "output_type": "stream",
     "text": [
      "Dividend Digit: 0\n"
     ]
    },
    {
     "data": {
      "application/javascript": [
       "\n",
       "    var cell = IPython.notebook.insert_cell_above(\"markdown\")\n",
       "    cell.set_text(\"$$\\n    \\\\require{enclose}\\n    \\\\begin{array}{r} 0 \\\\phantom{ 0 } \\\\\\\\ \\\\4\\\\enclose{longdiv}{ 700 } \\\\underline{          -4} \\\\phantom{00} \\\\\\\\ \\\\underline{          -0} \\\\phantom{00} \\\\\\\\\\\\end{array}$$\")\n",
       "    "
      ],
      "text/plain": [
       "<IPython.core.display.Javascript object>"
      ]
     },
     "metadata": {},
     "output_type": "display_data"
    },
    {
     "name": "stdout",
     "output_type": "stream",
     "text": [
      "Dividend Digit: 0\n"
     ]
    },
    {
     "data": {
      "application/javascript": [
       "\n",
       "    var cell = IPython.notebook.insert_cell_above(\"markdown\")\n",
       "    cell.set_text(\"$$\\n    \\\\require{enclose}\\n    \\\\begin{array}{r} 0 \\\\phantom{  } \\\\\\\\ \\\\4\\\\enclose{longdiv}{ 700 } \\\\underline{          -4} \\\\phantom{00} \\\\\\\\ \\\\underline{          -0} \\\\phantom{00} \\\\\\\\ \\\\underline{          -0} \\\\phantom{00} \\\\\\\\\\\\end{array}$$\")\n",
       "    "
      ],
      "text/plain": [
       "<IPython.core.display.Javascript object>"
      ]
     },
     "metadata": {},
     "output_type": "display_data"
    }
   ],
   "source": [
    "\n",
    "\n",
    "# subtract\n",
    "# drop values\n",
    "\n",
    "Dividend, Divisor = 700, 4\n",
    "\n",
    "string = r\"\"\"\n",
    "\\require{{enclose}}\n",
    "\\begin{{array}}{{r}}\n",
    "                                                    \\\\\n",
    "    {divisor}   \\enclose{{longdiv}}{{ {dividend} }} \\\\\n",
    "\\end{{array}}\n",
    "\"\"\"\n",
    "\n",
    "# multiply\n",
    "\n",
    "#quotient = \"                          1\\phantom{{00}}  \\\\\"#\"\"\\underline{{-4}\\phantom{{00}} \\\\\"\"\"\n",
    "\n",
    "division_body =\"{divisor}\\enclose{{longdiv}}{{ {dividend} }}\"\n",
    "\n",
    "\n",
    "n = 0\n",
    "\n",
    "longdiv_begin = r\"\"\"\n",
    "    \\require{{enclose}}\n",
    "    \\begin{{array}}{{r}} \"\"\"\n",
    "\n",
    "longdiv_end = \"\"\"\\end{{array}}\"\"\"\n",
    "\n",
    "while n != len(str(Dividend)) :\n",
    "    \n",
    "    digit = str(  Dividend )[ n ] \n",
    "    \n",
    "    print(\"Dividend Digit: \" + digit)\n",
    "\n",
    "    quantity_fill = \"\"\n",
    "    n += 1\n",
    "    \n",
    "    try:\n",
    "        \n",
    "        int( digit ) // Divisor \n",
    "        \n",
    "        quantity_fill  = str(int( digit ) - Divisor * ( int( digit ) // Divisor ) )\n",
    "        \n",
    "        division_body += r\" \\underline{{          -%s}} \\phantom{{00}} \\\\\" % ( Divisor * ( int( digit ) // Divisor ) )\n",
    "    \n",
    "    except ZeroDivisionError:\n",
    "        \n",
    "        pass\n",
    "    \n",
    "    quotient = quantity_fill +  \" \\phantom{{ %s }} \\\\\\ \" % ( \"0\" * (len( str( Dividend ) ) - n) )\n",
    "    \n",
    "    longdiv = longdiv_begin + quotient + division_body + longdiv_end\n",
    "    \n",
    "    longdiv = latex_wrapper( longdiv )\n",
    "    \n",
    "    longdiv = longdiv.format( dividend = Dividend, divisor = Divisor )\n",
    "    \n",
    "    add_cell( longdiv, type = 'markdown' )\n",
    "    \n",
    "\n",
    "\n",
    "\n",
    "    \n",
    "\n",
    "\n",
    "\n",
    "\n"
   ]
  },
  {
   "cell_type": "markdown",
   "id": "50d9970e",
   "metadata": {},
   "source": [
    "$$\n",
    "    \\require{enclose}\n",
    "    \\begin{array}{r} 3 \\phantom{ 00 } \\\\ 4\\enclose{longdiv}{ 700 } \\\\ \\underline{          -4} \\phantom{00} \\\\\\end{array}$$"
   ]
  },
  {
   "cell_type": "markdown",
   "id": "7ca2f497",
   "metadata": {},
   "source": [
    "$$\n",
    "    \\require{enclose}\n",
    "    \\begin{array}{r} 0 \\phantom{ 0 } \\\\ \\4\\enclose{longdiv}{ 700 } \\underline{          -4} \\phantom{00} \\\\ \\underline{          -0} \\phantom{00} \\\\\\end{array}$$"
   ]
  },
  {
   "cell_type": "markdown",
   "id": "bef63835",
   "metadata": {},
   "source": [
    "$$\n",
    "    \\require{enclose}\n",
    "    \\begin{array}{r} 0 \\phantom{  } \\\\ \\4\\enclose{longdiv}{ 700 } \\underline{          -4} \\phantom{00} \\\\ \\underline{          -0} \\phantom{00} \\\\ \\underline{          -0} \\phantom{00} \\\\\\end{array}$$"
   ]
  },
  {
   "cell_type": "markdown",
   "id": "5170ef1f",
   "metadata": {},
   "source": [
    "$$\n",
    "    \\require{enclose}\n",
    "    \\begin{array}{r} 3 \\phantom{ 00 } \\\\ 4\\enclose{longdiv}{ 700 } \\underline{          -4} \\phantom{00} \\\\\\end{array}$$"
   ]
  },
  {
   "cell_type": "markdown",
   "id": "493dcc6b",
   "metadata": {},
   "source": [
    "$$\n",
    "    \\require{enclose}\n",
    "    \\begin{array}{r}\\ 0 \\phantom{ 0 } \\\\ \\4\\enclose{longdiv}{ 700 }\\ \\underline{          -4} \\phantom{00} \\\\ \\underline{          -0} \\phantom{00} \\\\\\end{array}$$"
   ]
  },
  {
   "cell_type": "markdown",
   "id": "420bf561",
   "metadata": {},
   "source": [
    "$$\n",
    "    \\require{enclose}\n",
    "    \\begin{array}{r}\\ 0 \\phantom{  } \\\\ \\4\\enclose{longdiv}{ 700 }\\ \\underline{          -4} \\phantom{00} \\\\ \\underline{          -0} \\phantom{00} \\\\ \\underline{          -0} \\phantom{00} \\\\\\end{array}$$"
   ]
  },
  {
   "cell_type": "markdown",
   "id": "5a2362ee",
   "metadata": {},
   "source": [
    "$$\n",
    "    \\require{enclose}\n",
    "    \\begin{array}{r}\n",
    "    3 \\phantom{ 00 } \\\\ \\4\\enclose{longdiv}{ 700 }\\ \\underline{          -4} \\phantom{00} \\\\\\end{array}$$"
   ]
  },
  {
   "cell_type": "markdown",
   "id": "516db1c7",
   "metadata": {},
   "source": [
    "$$\n",
    "    \\require{enclose}\n",
    "    \\begin{array}{r}\n",
    "    0 \\phantom{ 0 } \\\\ \\4\\enclose{longdiv}{ 700 }\\ \\underline{          -4} \\phantom{00} \\\\ \\underline{          -0} \\phantom{00} \\\\\\end{array}$$"
   ]
  },
  {
   "cell_type": "markdown",
   "id": "67713274",
   "metadata": {},
   "source": [
    "$$\n",
    "    \\require{enclose}\n",
    "    \\begin{array}{r}\n",
    "    0 \\phantom{  } \\\\ \\4\\enclose{longdiv}{ 700 }\\ \\underline{          -4} \\phantom{00} \\\\ \\underline{          -0} \\phantom{00} \\\\ \\underline{          -0} \\phantom{00} \\\\\\end{array}$$"
   ]
  },
  {
   "cell_type": "markdown",
   "id": "f72c0978",
   "metadata": {},
   "source": [
    "$$\n",
    "    \\require{enclose}\n",
    "    \\begin{array}{r}\n",
    "    3 \\phantom{ 00 } \\\\ 4\\enclose{longdiv}{ 700 }\\\\ \\underline{          -4} \\phantom{00} \\\\\\end{array}$$"
   ]
  },
  {
   "cell_type": "markdown",
   "id": "ce89155e",
   "metadata": {},
   "source": [
    "$$\n",
    "    \\require{enclose}\n",
    "    \\begin{array}{r}\n",
    "    0 \\phantom{ 00 } \\\\ \\4\\enclose{longdiv}{ 700 }\\ \\underline{          -4} \\phantom{00} \\\\ \\underline{          -0} \\phantom{00} \\\\\\end{array}$$"
   ]
  },
  {
   "cell_type": "markdown",
   "id": "e2ae66fe",
   "metadata": {},
   "source": [
    "$$\n",
    "    \\require{enclose}\n",
    "    \\begin{array}{r}\n",
    "    0 \\phantom{ 0 } \\\\ \\4\\enclose{longdiv}{ 700 }\\ \\underline{          -4} \\phantom{00} \\\\ \\underline{          -0} \\phantom{00} \\\\ \\underline{          -0} \\phantom{00} \\\\\\end{array}$$"
   ]
  },
  {
   "cell_type": "markdown",
   "id": "be8342ee",
   "metadata": {},
   "source": [
    "$$\n",
    "    \\require{enclose}\n",
    "    \\begin{array}{r}\n",
    "    3 \\phantom{ '000' } \\\\ \\4\\enclose{longdiv}{ 700 }\\ \\underline{          -4} \\phantom{00} \\\\\\end{array}$$"
   ]
  },
  {
   "cell_type": "markdown",
   "id": "d09f6b63",
   "metadata": {},
   "source": [
    "$$\n",
    "    \\require{enclose}\n",
    "    \\begin{array}{r}\n",
    "    0 \\phantom{ '00' } \\\\ \\4\\enclose{longdiv}{ 700 }\\ \\underline{          -4} \\phantom{00} \\\\ \\underline{          -0} \\phantom{00} \\\\\\end{array}$$"
   ]
  },
  {
   "cell_type": "markdown",
   "id": "dd33d6ba",
   "metadata": {},
   "source": [
    "$$\n",
    "    \\require{enclose}\n",
    "    \\begin{array}{r}\n",
    "    0 \\phantom{ '0' } \\\\ \\4\\enclose{longdiv}{ 700 }\\ \\underline{          -4} \\phantom{00} \\\\ \\underline{          -0} \\phantom{00} \\\\ \\underline{          -0} \\phantom{00} \\\\\\end{array}$$"
   ]
  },
  {
   "cell_type": "markdown",
   "id": "9cee688f",
   "metadata": {},
   "source": [
    "$$\n",
    "    \\require{enclose}\n",
    "    \\begin{array}{r}\n",
    "    3 \\phantom{ '000' } \\ \\4\\enclose{longdiv}{ 700 }\\ \\underline{          -4} \\phantom{00} \\\\\\end{array}$$"
   ]
  },
  {
   "cell_type": "markdown",
   "id": "b61b5d7f",
   "metadata": {},
   "source": [
    "$$\n",
    "    \\require{enclose}\n",
    "    \\begin{array}{r}\n",
    "    0 \\phantom{ '00' } \\ \\4\\enclose{longdiv}{ 700 }\\ \\underline{          -4} \\phantom{00} \\\\ \\underline{          -0} \\phantom{00} \\\\\\end{array}$$"
   ]
  },
  {
   "cell_type": "markdown",
   "id": "cacfc433",
   "metadata": {},
   "source": [
    "$$\n",
    "    \\require{enclose}\n",
    "    \\begin{array}{r}\n",
    "    0 \\phantom{ '0' } \\ \\4\\enclose{longdiv}{ 700 }\\ \\underline{          -4} \\phantom{00} \\\\ \\underline{          -0} \\phantom{00} \\\\ \\underline{          -0} \\phantom{00} \\\\\\end{array}$$"
   ]
  },
  {
   "cell_type": "markdown",
   "id": "3a59a8b9",
   "metadata": {},
   "source": [
    "$$\n",
    "    \\require{enclose}\n",
    "    \\begin{array}{r}\n",
    "    3 \\phantom{ '000' } \\4\\enclose{longdiv}{ 700 }\\ \\underline{          -4} \\phantom{00} \\\\\\end{array}$$"
   ]
  },
  {
   "cell_type": "markdown",
   "id": "b846f70d",
   "metadata": {},
   "source": [
    "$$\n",
    "    \\require{enclose}\n",
    "    \\begin{array}{r}\n",
    "    0 \\phantom{ '00' } \\4\\enclose{longdiv}{ 700 }\\ \\underline{          -4} \\phantom{00} \\\\ \\underline{          -0} \\phantom{00} \\\\\\end{array}$$"
   ]
  },
  {
   "cell_type": "markdown",
   "id": "967449a1",
   "metadata": {},
   "source": [
    "$$\n",
    "    \\require{enclose}\n",
    "    \\begin{array}{r}\n",
    "    0 \\phantom{ '0' } \\4\\enclose{longdiv}{ 700 }\\ \\underline{          -4} \\phantom{00} \\\\ \\underline{          -0} \\phantom{00} \\\\ \\underline{          -0} \\phantom{00} \\\\\\end{array}$$"
   ]
  },
  {
   "cell_type": "markdown",
   "id": "1f179ad6",
   "metadata": {},
   "source": [
    "$$\n",
    "    \\require{enclose}\n",
    "    \\begin{array}{r}\n",
    "    3 \\phantom{ '000' } \\4\\enclose{longdiv}{ 700 }\\ \\underline{          -4} \\phantom{00} \\\\\\end{array}$$"
   ]
  },
  {
   "cell_type": "markdown",
   "id": "2c247320",
   "metadata": {},
   "source": [
    "$$\n",
    "    \\require{enclose}\n",
    "    \\begin{array}{r}\n",
    "    0 \\phantom{ '00' } \\4\\enclose{longdiv}{ 700 }\\ \\underline{          -4} \\phantom{00} \\\\ \\underline{          -0} \\phantom{00} \\\\\\end{array}$$"
   ]
  },
  {
   "cell_type": "markdown",
   "id": "dcd07991",
   "metadata": {},
   "source": [
    "$$\n",
    "    \\require{enclose}\n",
    "    \\begin{array}{r}\n",
    "    0 \\phantom{ '0' } \\4\\enclose{longdiv}{ 700 }\\ \\underline{          -4} \\phantom{00} \\\\ \\underline{          -0} \\phantom{00} \\\\ \\underline{          -0} \\phantom{00} \\\\\\end{array}$$"
   ]
  },
  {
   "cell_type": "markdown",
   "id": "714fab7d",
   "metadata": {},
   "source": [
    "$$\n",
    "    \\require{enclose}\n",
    "    \\begin{array}{r}\n",
    "     \\phantom{ '3000' } \\4\\enclose{longdiv}{ 700 }\\ \\underline{          -4} \\phantom{00} \\\\\\end{array}$$"
   ]
  },
  {
   "cell_type": "markdown",
   "id": "4d7f8f3b",
   "metadata": {},
   "source": [
    "$$\n",
    "    \\require{enclose}\n",
    "    \\begin{array}{r}\n",
    "     \\phantom{ '000' } \\4\\enclose{longdiv}{ 700 }\\ \\underline{          -4} \\phantom{00} \\\\ \\underline{          -0} \\phantom{00} \\\\\\end{array}$$"
   ]
  },
  {
   "cell_type": "markdown",
   "id": "4e356e3f",
   "metadata": {},
   "source": [
    "$$\n",
    "    \\require{enclose}\n",
    "    \\begin{array}{r}\n",
    "     \\phantom{ '00' } \\4\\enclose{longdiv}{ 700 }\\ \\underline{          -4} \\phantom{00} \\\\ \\underline{          -0} \\phantom{00} \\\\ \\underline{          -0} \\phantom{00} \\\\\\end{array}$$"
   ]
  },
  {
   "cell_type": "markdown",
   "id": "f9a47ce7",
   "metadata": {},
   "source": [
    "$$\n",
    "    \\require{enclose}\n",
    "    \\begin{array}{r}\n",
    "     \\phantom{ 3000 } \\4\\enclose{longdiv}{ 700 }\\ \\underline{          -4} \\phantom{00} \\\\\\end{array}$$"
   ]
  },
  {
   "cell_type": "markdown",
   "id": "baf8c622",
   "metadata": {},
   "source": [
    "$$\n",
    "    \\require{enclose}\n",
    "    \\begin{array}{r}\n",
    "     \\phantom{ 000 } \\4\\enclose{longdiv}{ 700 }\\ \\underline{          -4} \\phantom{00} \\\\ \\underline{          -0} \\phantom{00} \\\\\\end{array}$$"
   ]
  },
  {
   "cell_type": "markdown",
   "id": "b196cc65",
   "metadata": {},
   "source": [
    "$$\n",
    "    \\require{enclose}\n",
    "    \\begin{array}{r}\n",
    "     \\phantom{ 00 } \\4\\enclose{longdiv}{ 700 }\\ \\underline{          -4} \\phantom{00} \\\\ \\underline{          -0} \\phantom{00} \\\\ \\underline{          -0} \\phantom{00} \\\\\\end{array}$$"
   ]
  },
  {
   "cell_type": "markdown",
   "id": "92273d72",
   "metadata": {},
   "source": [
    "$$\n",
    "    \\require{enclose}\n",
    "    \\begin{array}{r}\n",
    "    \\phantom{ 3000 }\\4\\enclose{longdiv}{ 700 }\\ \\underline{          -4}\\phantom{00} \\\\\\end{array}$$"
   ]
  },
  {
   "cell_type": "markdown",
   "id": "97395892",
   "metadata": {},
   "source": [
    "$$\n",
    "    \\require{enclose}\n",
    "    \\begin{array}{r}\n",
    "    \\phantom{ 000 }\\4\\enclose{longdiv}{ 700 }\\ \\underline{          -4}\\phantom{00} \\\\ \\underline{          -0}\\phantom{00} \\\\\\end{array}$$"
   ]
  },
  {
   "cell_type": "markdown",
   "id": "d8c90053",
   "metadata": {},
   "source": [
    "$$\n",
    "    \\require{enclose}\n",
    "    \\begin{array}{r}\n",
    "    \\phantom{ 00 }\\4\\enclose{longdiv}{ 700 }\\ \\underline{          -4}\\phantom{00} \\\\ \\underline{          -0}\\phantom{00} \\\\ \\underline{          -0}\\phantom{00} \\\\\\end{array}$$"
   ]
  },
  {
   "cell_type": "markdown",
   "id": "52ff25ff",
   "metadata": {},
   "source": [
    "$$\n",
    "    \\require{enclose}\n",
    "    \\begin{array}{r}\n",
    "    \\phantom{ 3000 }\\4\\enclose{longdiv}{ 700 }\\ \\underline{          -4}\\phantom{00} \\\\\\end{array}$$"
   ]
  },
  {
   "cell_type": "markdown",
   "id": "5e4468c2",
   "metadata": {},
   "source": []
  },
  {
   "cell_type": "markdown",
   "id": "688e0e3e",
   "metadata": {},
   "source": []
  },
  {
   "cell_type": "markdown",
   "id": "348d6db4",
   "metadata": {},
   "source": []
  },
  {
   "cell_type": "code",
   "execution_count": null,
   "id": "6f7fbf31",
   "metadata": {},
   "outputs": [],
   "source": []
  },
  {
   "cell_type": "code",
   "execution_count": 6,
   "id": "7e2e7c38",
   "metadata": {},
   "outputs": [
    {
     "ename": "SyntaxError",
     "evalue": "invalid syntax (2805340288.py, line 7)",
     "output_type": "error",
     "traceback": [
      "\u001b[1;36m  Input \u001b[1;32mIn [6]\u001b[1;36m\u001b[0m\n\u001b[1;33m    check=\u001b[0m\n\u001b[1;37m          ^\u001b[0m\n\u001b[1;31mSyntaxError\u001b[0m\u001b[1;31m:\u001b[0m invalid syntax\n"
     ]
    }
   ],
   "source": [
    "dividend = 500\n",
    "divisor = 4\n",
    "dividend = str(dividend)\n",
    "len(dividend)\n",
    "int(dividend[0])//divisor\n",
    "dividend[0]\n",
    "check=\n",
    "if int(check)//divisor == 0:\n",
    "    "
   ]
  },
  {
   "cell_type": "code",
   "execution_count": 7,
   "id": "d491cbea",
   "metadata": {},
   "outputs": [
    {
     "data": {
      "text/plain": [
       "'4.6'"
      ]
     },
     "execution_count": 7,
     "metadata": {},
     "output_type": "execute_result"
    }
   ],
   "source": [
    "str(4.6)"
   ]
  },
  {
   "cell_type": "code",
   "execution_count": null,
   "id": "619d3656",
   "metadata": {},
   "outputs": [],
   "source": []
  },
  {
   "cell_type": "code",
   "execution_count": 8,
   "id": "db7e32ab",
   "metadata": {},
   "outputs": [],
   "source": [
    "# whole number division\n",
    "\n",
    "# Numerator > Denominator = improper fraction = mixed number\n",
    "\n",
    "# Denominator > Numerator = proper fraction = decimal number\n",
    "\n",
    "# floating point division\n",
    "\n",
    "# dividend > divisor\n",
    "\n",
    "# dividend < divisor\n"
   ]
  },
  {
   "cell_type": "markdown",
   "id": "d07fcfc2",
   "metadata": {},
   "source": [
    "$\\require{enclose}\n",
    "\\begin{array}{r}\n",
    "                          1\\phantom{00}  \\\\\n",
    "                          401.44\\enclose{longdiv}{ 50.0015 }\\\\ \n",
    "\\end{array}$"
   ]
  },
  {
   "cell_type": "code",
   "execution_count": null,
   "id": "09c6718a",
   "metadata": {},
   "outputs": [],
   "source": []
  },
  {
   "cell_type": "code",
   "execution_count": null,
   "id": "95b742a3",
   "metadata": {},
   "outputs": [],
   "source": []
  },
  {
   "cell_type": "code",
   "execution_count": null,
   "id": "a226d73d",
   "metadata": {},
   "outputs": [],
   "source": []
  }
 ],
 "metadata": {
  "kernelspec": {
   "display_name": "Python 3 (ipykernel)",
   "language": "python",
   "name": "python3"
  },
  "language_info": {
   "codemirror_mode": {
    "name": "ipython",
    "version": 3
   },
   "file_extension": ".py",
   "mimetype": "text/x-python",
   "name": "python",
   "nbconvert_exporter": "python",
   "pygments_lexer": "ipython3",
   "version": "3.9.12"
  }
 },
 "nbformat": 4,
 "nbformat_minor": 5
}
