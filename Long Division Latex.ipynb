{
 "cells": [
  {
   "cell_type": "markdown",
   "id": "1bc93422",
   "metadata": {},
   "source": [
    "# Long Division Latex"
   ]
  },
  {
   "cell_type": "code",
   "execution_count": 1,
   "id": "f483a668",
   "metadata": {},
   "outputs": [],
   "source": [
    "# Jupyter Utilities\n",
    "\n",
    "from IPython.display import display, Javascript\n",
    "\n",
    "def add_cell( text,  type = 'code', direct = 'above' ):\n",
    "\n",
    "    text = text.replace( '\\n', '\\\\n' ).replace( \"\\\"\", \"\\\\\\\"\" ).replace( \"'\", \"\\\\'\" )\n",
    "    \n",
    "    _output_ = Javascript('''\n",
    "    var cell = IPython.notebook.insert_cell_{}(\"{}\")\n",
    "    cell.set_text(\"{}\")\n",
    "    '''.format( direct, type, text ))\n",
    "    \n",
    "    display( _output_ );"
   ]
  },
  {
   "cell_type": "code",
   "execution_count": 2,
   "id": "fd4bbf62",
   "metadata": {},
   "outputs": [],
   "source": [
    "# Latex Wrapper\n",
    "\n",
    "def latex_wrapper( latex : str ) -> str :\n",
    "    return f\"$${ latex }$$\".replace( '\\\\', \"\\\\\\\\\" )    "
   ]
  },
  {
   "cell_type": "code",
   "execution_count": null,
   "id": "fba5845b",
   "metadata": {},
   "outputs": [],
   "source": []
  },
  {
   "cell_type": "code",
   "execution_count": 3,
   "id": "55567b3f",
   "metadata": {},
   "outputs": [
    {
     "data": {
      "application/javascript": [
       "\n",
       "    var cell = IPython.notebook.insert_cell_above(\"markdown\")\n",
       "    cell.set_text(\"$$\\\\require{enclose}\\n\\\\begin{array}{r}\\n                          125            \\\\\\\\\\n    4   \\\\enclose{longdiv}{500}           \\\\\\\\\\n    \\\\underline{          -4}\\\\phantom{00} \\\\\\\\\\n                          10\\\\phantom{0}  \\\\\\\\\\n    \\\\underline{-\\\\phantom{0}8}\\\\phantom{0} \\\\\\\\\\n                \\\\phantom{0}20            \\\\\\\\\\n    \\\\underline{           -20}           \\\\\\\\\\n                \\\\phantom{00}0\\n\\\\end{array}$$\")\n",
       "    "
      ],
      "text/plain": [
       "<IPython.core.display.Javascript object>"
      ]
     },
     "metadata": {},
     "output_type": "display_data"
    }
   ],
   "source": [
    "\n",
    "latex = r\"\"\"\\require{enclose}\n",
    "\\begin{array}{r}\n",
    "                          125            \\\\\n",
    "    4   \\enclose{longdiv}{500}           \\\\\n",
    "    \\underline{          -4}\\phantom{00} \\\\\n",
    "                          10\\phantom{0}  \\\\\n",
    "    \\underline{-\\phantom{0}8}\\phantom{0} \\\\\n",
    "                \\phantom{0}20            \\\\\n",
    "    \\underline{           -20}           \\\\\n",
    "                \\phantom{00}0\n",
    "\\end{array}\"\"\"\n",
    "\n",
    "latex = latex_wrapper(latex)\n",
    "\n",
    "add_cell( latex, type=\"markdown\")"
   ]
  },
  {
   "cell_type": "markdown",
   "id": "762189ed",
   "metadata": {},
   "source": [
    "$$\\require{enclose}\n",
    "\\begin{array}{r}\n",
    "                          125            \\\\\n",
    "    4   \\enclose{longdiv}{500}           \\\\\n",
    "    \\underline{          -4}\\phantom{00} \\\\\n",
    "                          10\\phantom{0}  \\\\\n",
    "    \\underline{-\\phantom{0}8}\\phantom{0} \\\\\n",
    "                \\phantom{0}20            \\\\\n",
    "    \\underline{           -20}           \\\\\n",
    "                \\phantom{00}0\n",
    "\\end{array}$$"
   ]
  },
  {
   "cell_type": "markdown",
   "id": "bbcd31c7",
   "metadata": {},
   "source": [
    "$$\\require{enclose}\n",
    "\\begin{array}{r}\n",
    "                          125            \\\\\n",
    "    4   \\enclose{longdiv}{500}           \\\\\n",
    "    \\underline{          -4}\\phantom{00} \\\\\n",
    "                          10\\phantom{0}  \\\\\n",
    "    \\underline{-\\phantom{0}8}\\phantom{0} \\\\\n",
    "                \\phantom{0}20            \\\\\n",
    "    \\underline{           -20}           \\\\\n",
    "                \\phantom{00}0\n",
    "\\end{array}$$"
   ]
  },
  {
   "cell_type": "markdown",
   "id": "6e8328a1",
   "metadata": {},
   "source": []
  },
  {
   "cell_type": "code",
   "execution_count": null,
   "id": "65dfa4c5",
   "metadata": {},
   "outputs": [],
   "source": []
  },
  {
   "cell_type": "code",
   "execution_count": null,
   "id": "ac7c015c",
   "metadata": {},
   "outputs": [],
   "source": []
  },
  {
   "cell_type": "code",
   "execution_count": 4,
   "id": "11f75bcf",
   "metadata": {},
   "outputs": [],
   "source": [
    "latex = r\"\"\"\\require{enclose}\n",
    "\\begin{array}{r}\n",
    "                          125            \\\\\n",
    "    4   \\enclose{longdiv}{500}           \\\\\n",
    "    \\underline{          -4}\\phantom{00} \\\\\n",
    "                          10\\phantom{0}  \\\\\n",
    "    \\underline{-\\phantom{0}8}\\phantom{0} \\\\\n",
    "                \\phantom{0}20            \\\\\n",
    "    \\underline{           -20}           \\\\\n",
    "                \\phantom{00}0\n",
    "\\end{array}\"\"\""
   ]
  },
  {
   "cell_type": "markdown",
   "id": "7b95a36c",
   "metadata": {},
   "source": [
    "$$\n",
    "\\require{enclose}\n",
    "\\begin{array}{r}\n",
    "                 \\phantom{000}           \\\\\n",
    "    4   \\enclose{longdiv}{500}           \\\\\n",
    "\\end{array}\n",
    "$$"
   ]
  },
  {
   "cell_type": "markdown",
   "id": "34cefdd6",
   "metadata": {},
   "source": [
    "$$\n",
    "\\require{enclose}\n",
    "\\begin{array}{r}\n",
    "    \n",
    "                          1\\phantom{00}  \\\\\n",
    "    4   \\enclose{longdiv}{500}           \\\\\n",
    "    \\underline{          -4}\\phantom{00} \\\\\n",
    "    division_body = division_body + new_calc    \\\\\n",
    "\\end{array}\n",
    "$$"
   ]
  },
  {
   "cell_type": "markdown",
   "id": "19a05a2e",
   "metadata": {},
   "source": [
    "$$\n",
    "\\require{enclose}\n",
    "\\begin{array}{r}\n",
    "                          1\\phantom{00}  \\\\\n",
    "    4   \\enclose{longdiv}{500}           \\\\\n",
    "    \\underline{          -4}\\phantom{00} \\\\\n",
    "                          1 \\phantom{00}\n",
    "\\end{array}\n",
    "$$"
   ]
  },
  {
   "cell_type": "markdown",
   "id": "c45fb975",
   "metadata": {},
   "source": [
    "$$\n",
    "\\require{enclose}\n",
    "\\begin{array}{r}\n",
    "                          1\\phantom{00}  \\\\\n",
    "    4   \\enclose{longdiv}{500}           \\\\\n",
    "    \\underline{          -4}\\phantom{00} \\\\\n",
    "                          10\\phantom{0}  \\\\\n",
    "\\end{array}\n",
    "$$"
   ]
  },
  {
   "cell_type": "markdown",
   "id": "f395cec0",
   "metadata": {},
   "source": [
    "$$\n",
    "\\require{enclose}\n",
    "\\begin{array}{r}\n",
    "                          12\\phantom{0}  \\\\\n",
    "    4   \\enclose{longdiv}{500}           \\\\\n",
    "    \\underline{          -4}\\phantom{00} \\\\\n",
    "                          10\\phantom{0}  \\\\\n",
    "    \\underline{-\\phantom{0}8}\\phantom{0} \\\\\n",
    "\\end{array}\n",
    "$$"
   ]
  },
  {
   "cell_type": "markdown",
   "id": "850a8078",
   "metadata": {},
   "source": [
    "$$\n",
    "\\require{enclose}\n",
    "\\begin{array}{r}\n",
    "                          12\\phantom{0}  \\\\\n",
    "    4   \\enclose{longdiv}{500}           \\\\\n",
    "    \\underline{          -4}\\phantom{00} \\\\\n",
    "                          10\\phantom{0}  \\\\\n",
    "    \\underline{-\\phantom{0}8}\\phantom{0} \\\\\n",
    "                           2 \\phantom{0} \\\\\n",
    "\\end{array}\n",
    "$$"
   ]
  },
  {
   "cell_type": "markdown",
   "id": "3b2203ba",
   "metadata": {},
   "source": [
    "$$\n",
    "\\require{enclose}\n",
    "\\begin{array}{r}\n",
    "                          12\\phantom{0}  \\\\\n",
    "    4   \\enclose{longdiv}{500}           \\\\\n",
    "    \\underline{          -4}\\phantom{00} \\\\\n",
    "                          10\\phantom{0}  \\\\\n",
    "    \\underline{-\\phantom{0}8}\\phantom{0} \\\\\n",
    "                           20            \\\\\n",
    "\\end{array}\n",
    "$$"
   ]
  },
  {
   "cell_type": "markdown",
   "id": "a4db8d0d",
   "metadata": {},
   "source": [
    "$$\n",
    "\\require{enclose}\n",
    "\\begin{array}{r}\n",
    "                          125            \\\\\n",
    "    4   \\enclose{longdiv}{500}           \\\\\n",
    "    \\underline{          -4}\\phantom{00} \\\\\n",
    "                          10\\phantom{0}  \\\\\n",
    "    \\underline{-\\phantom{0}8}\\phantom{0} \\\\\n",
    "                           20            \\\\\n",
    "    \\underline{           -20}           \\\\\n",
    "\\end{array}\n",
    "$$"
   ]
  },
  {
   "cell_type": "markdown",
   "id": "de72d74f",
   "metadata": {},
   "source": [
    "$$\n",
    "\\require{enclose}\n",
    "\\begin{array}{r}\n",
    "                          125            \\\\\n",
    "    4   \\enclose{longdiv}{500}           \\\\\n",
    "    \\underline{          -4}\\phantom{00} \\\\\n",
    "                          10\\phantom{0}  \\\\\n",
    "    \\underline{-\\phantom{0}8}\\phantom{0} \\\\\n",
    "                           20            \\\\\n",
    "    \\underline{           -20}           \\\\\n",
    "              0 \n",
    "\\end{array}\n",
    "$$"
   ]
  },
  {
   "cell_type": "code",
   "execution_count": 5,
   "id": "301f8108",
   "metadata": {},
   "outputs": [
    {
     "data": {
      "application/javascript": [
       "\n",
       "    var cell = IPython.notebook.insert_cell_above(\"markdown\")\n",
       "    cell.set_text(\"$$\\n\\\\require{enclose}\\n\\\\begin{array}{r}\\n                          1\\\\phantom{00}  \\\\\\\\4\\\\enclose{longdiv}{ 500 }\\\\\\\\ \\n\\\\end{array}\\n$$\")\n",
       "    "
      ],
      "text/plain": [
       "<IPython.core.display.Javascript object>"
      ]
     },
     "metadata": {},
     "output_type": "display_data"
    }
   ],
   "source": [
    "\n",
    "\n",
    "# subtract\n",
    "# drop values\n",
    "\n",
    "Dividend, Divisor = 500, 4\n",
    "\n",
    "string = r\"\"\"\n",
    "\\require{{enclose}}\n",
    "\\begin{{array}}{{r}}\n",
    "                                                    \\\\\n",
    "    {divisor}   \\enclose{{longdiv}}{{ {dividend} }} \\\\\n",
    "\\end{{array}}\n",
    "\"\"\"\n",
    "\n",
    "# multiply\n",
    "\n",
    "quotient = \"                          1\\phantom{{00}}  \\\\\"#\"\"\\underline{{-4}\\phantom{{00}} \\\\\"\"\"\n",
    "division_body =\"\\\\{divisor}\\enclose{{longdiv}}{{ {dividend} }}\\\\\\ \"\n",
    "\n",
    "\n",
    "#quotient = \"\\phantom{ %s }\" % ( quantity_fill + \"0\" * len( str( dividend ) ) - n )\n",
    "\n",
    "long_division_wrapper = r\"\"\"\n",
    "\\require{{enclose}}\n",
    "\\begin{{array}}{{r}}\n",
    "\"\"\"+quotient+division_body+\"\"\"\n",
    "\\end{{array}}\n",
    "\"\"\"\n",
    "\n",
    "n = 0\n",
    "longdiv_begi = r\"\"\"\n",
    "    \\require{{enclose}}\n",
    "    \\begin{{array}}{{r}}\n",
    "    \"\"\"\n",
    "while n != len(str(Dividend)) :\n",
    "    print(\"Dividend Digit: \" +str(Dividend)[n])\n",
    "    quantity_fill = \"\"\n",
    "    \n",
    "    quotient = \"\\phantom{ %s }\" % ( quantity_fill + (\"0\" * (len( str( Dividend ) )  - n) ) )\n",
    "    \n",
    "    +quotient+division_body+\n",
    "    print(long_division_wrapper)\n",
    "    n += 1\n",
    "\n",
    "\n",
    "    \n",
    "#add_cell( string, type = 'markdown' )\n",
    "#string = long_division_wrapper.format( dividend = Dividend, divisor = Divisor )\n",
    "#string = latex_wrapper( string )\n",
    "\n"
   ]
  },
  {
   "cell_type": "markdown",
   "id": "d7dff14f",
   "metadata": {},
   "source": [
    "$$\n",
    "\\require{enclose}\n",
    "\\begin{array}{r}\n",
    "                          1\\phantom{00}  \\\\4\\enclose{longdiv}{ 500 }\\\\ \n",
    "\\end{array}\n",
    "$$"
   ]
  },
  {
   "cell_type": "markdown",
   "id": "5e4468c2",
   "metadata": {},
   "source": []
  },
  {
   "cell_type": "markdown",
   "id": "688e0e3e",
   "metadata": {},
   "source": []
  },
  {
   "cell_type": "markdown",
   "id": "348d6db4",
   "metadata": {},
   "source": []
  },
  {
   "cell_type": "code",
   "execution_count": null,
   "id": "6f7fbf31",
   "metadata": {},
   "outputs": [],
   "source": []
  },
  {
   "cell_type": "code",
   "execution_count": 6,
   "id": "7e2e7c38",
   "metadata": {},
   "outputs": [
    {
     "ename": "SyntaxError",
     "evalue": "invalid syntax (2805340288.py, line 7)",
     "output_type": "error",
     "traceback": [
      "\u001b[1;36m  Input \u001b[1;32mIn [6]\u001b[1;36m\u001b[0m\n\u001b[1;33m    check=\u001b[0m\n\u001b[1;37m          ^\u001b[0m\n\u001b[1;31mSyntaxError\u001b[0m\u001b[1;31m:\u001b[0m invalid syntax\n"
     ]
    }
   ],
   "source": [
    "dividend = 500\n",
    "divisor = 4\n",
    "dividend = str(dividend)\n",
    "len(dividend)\n",
    "int(dividend[0])//divisor\n",
    "dividend[0]\n",
    "check=\n",
    "if int(check)//divisor == 0:\n",
    "    "
   ]
  },
  {
   "cell_type": "code",
   "execution_count": 7,
   "id": "d491cbea",
   "metadata": {},
   "outputs": [
    {
     "data": {
      "text/plain": [
       "'4.6'"
      ]
     },
     "execution_count": 7,
     "metadata": {},
     "output_type": "execute_result"
    }
   ],
   "source": [
    "str(4.6)"
   ]
  },
  {
   "cell_type": "code",
   "execution_count": null,
   "id": "619d3656",
   "metadata": {},
   "outputs": [],
   "source": []
  },
  {
   "cell_type": "code",
   "execution_count": 8,
   "id": "db7e32ab",
   "metadata": {},
   "outputs": [],
   "source": [
    "# whole number division\n",
    "\n",
    "# Numerator > Denominator = improper fraction = mixed number\n",
    "\n",
    "# Denominator > Numerator = proper fraction = decimal number\n",
    "\n",
    "# floating point division\n",
    "\n",
    "# dividend > divisor\n",
    "\n",
    "# dividend < divisor\n"
   ]
  },
  {
   "cell_type": "markdown",
   "id": "d07fcfc2",
   "metadata": {},
   "source": [
    "$\\require{enclose}\n",
    "\\begin{array}{r}\n",
    "                          1\\phantom{00}  \\\\\n",
    "                          401.44\\enclose{longdiv}{ 50.0015 }\\\\ \n",
    "\\end{array}$"
   ]
  },
  {
   "cell_type": "code",
   "execution_count": null,
   "id": "09c6718a",
   "metadata": {},
   "outputs": [],
   "source": []
  },
  {
   "cell_type": "code",
   "execution_count": null,
   "id": "95b742a3",
   "metadata": {},
   "outputs": [],
   "source": []
  },
  {
   "cell_type": "code",
   "execution_count": null,
   "id": "a226d73d",
   "metadata": {},
   "outputs": [],
   "source": []
  }
 ],
 "metadata": {
  "kernelspec": {
   "display_name": "Python 3 (ipykernel)",
   "language": "python",
   "name": "python3"
  },
  "language_info": {
   "codemirror_mode": {
    "name": "ipython",
    "version": 3
   },
   "file_extension": ".py",
   "mimetype": "text/x-python",
   "name": "python",
   "nbconvert_exporter": "python",
   "pygments_lexer": "ipython3",
   "version": "3.9.12"
  }
 },
 "nbformat": 4,
 "nbformat_minor": 5
}
